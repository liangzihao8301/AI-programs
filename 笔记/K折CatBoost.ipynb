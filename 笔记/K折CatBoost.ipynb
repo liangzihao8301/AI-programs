{
 "cells": [
  {
   "cell_type": "code",
   "execution_count": null,
   "id": "11481ff1",
   "metadata": {},
   "outputs": [],
   "source": [
    "import numpy as np\n",
    "import pandas as pd\n",
    "import pickle\n",
    "%matplotlib inline\n",
    "import matplotlib # 注意这个也要import一次\n",
    "import matplotlib.pyplot as plt\n",
    "import seaborn as sns\n",
    "from sklearn.preprocessing import LabelEncoder\n",
    "from sklearn import metrics\n",
    "from sklearn.metrics import roc_auc_score, accuracy_score, recall_score, mean_squared_error, roc_curve, auc\n",
    "from sklearn.model_selection import train_test_split\n",
    "import gc\n",
    "\n",
    "import warnings\n",
    "warnings.filterwarnings(\"ignore\")"
   ]
  },
  {
   "cell_type": "code",
   "execution_count": null,
   "id": "75388d71",
   "metadata": {},
   "outputs": [],
   "source": [
    "from sklearn.model_selection import StratifiedKFold,KFold\n",
    "import catboost as cb\n",
    "from catboost import CatBoostClassifier, cv, Pool"
   ]
  },
  {
   "cell_type": "code",
   "execution_count": null,
   "id": "45b32229",
   "metadata": {},
   "outputs": [],
   "source": [
    "NFOLD = 5\n",
    "seed = 2022"
   ]
  },
  {
   "cell_type": "code",
   "execution_count": null,
   "id": "d87f0a3d",
   "metadata": {},
   "outputs": [],
   "source": [
    "kf = StratifiedKFold(n_splits=NFOLD, shuffle=True, random_state=seed)"
   ]
  },
  {
   "cell_type": "code",
   "execution_count": null,
   "id": "56a1caed",
   "metadata": {},
   "outputs": [],
   "source": [
    "from catboost.utils import get_gpu_device_count\n",
    "print('I see %i GPU devices' % get_gpu_device_count())"
   ]
  },
  {
   "cell_type": "code",
   "execution_count": null,
   "id": "185d286b",
   "metadata": {},
   "outputs": [],
   "source": [
    "def cv_train_model(X_train, X_test, y_train, kf):\n",
    "    clfs = []\n",
    "    train_pred = np.zeros(X_train.shape[0])\n",
    "    answers = []\n",
    "    mean_score = 0\n",
    "    cv_scores = []\n",
    "    CB_INFO_PATH = './catboost_info'\n",
    "    \n",
    "    cv_cat_model = cb.CatBoostClassifier(iterations=10000,\n",
    "                                     depth=7,\n",
    "                                     learning_rate=0.001,\n",
    "                                     loss_function='Logloss',\n",
    "                                     eval_metric='AUC',\n",
    "                                     logging_level='Verbose',\n",
    "                                     metric_period=50)\n",
    "    \n",
    "    for fold, (train_index, val_index) in enumerate(kf.split(X_train, y_train)):\n",
    "        X_train_fold, X_val_fold = X_train.iloc[train_index], X_train.iloc[val_index]\n",
    "        y_train_fold, y_val_fold = y_train.iloc[train_index], y_train.iloc[val_index]\n",
    "\n",
    "        print(\"fold:\", fold)\n",
    "        clf = cv_cat_model.fit(X_train_fold, y_train_fold, eval_set=[(X_train_fold, y_train_fold), (X_val_fold, y_val_fold)],\n",
    "                               verbose=200, \n",
    "                               cat_features=cat_feature\n",
    "                               )\n",
    "        clfs.append(clf)\n",
    "\n",
    "        pred_val_fold = clf.predict(X_val_fold, prediction_type='Probability', ntree_end = clf.get_best_iteration() + 1)[:,-1]\n",
    "        train_pred[val_index] = pred_val_fold\n",
    "\n",
    "        print('cat验证的auc:{}'.format(roc_auc_score(y_val_fold, pred_val_fold)))\n",
    "        mean_score += roc_auc_score(y_val_fold, pred_val_fold) / NFOLD\n",
    "        cv_scores.append(roc_auc_score(y_val_fold, pred_val_fold))\n",
    "\n",
    "        pred = clf.predict(X_test, prediction_type='Probability', ntree_end = clf.get_best_iteration() + 1)[:,-1]\n",
    "        answers.append(pred)\n",
    "\n",
    "        del clf, X_train_fold, X_val_fold, y_train_fold, y_val_fold\n",
    "        gc.collect()\n",
    "        \n",
    "    print(\"cat_scotrainre_list:{}\".format(cv_scores))\n",
    "    print(\"cat_score_mean:{}\".format(np.mean(cv_scores)))\n",
    "    print(\"cat_score_std:{}\".format(np.std(cv_scores)))\n",
    "\n",
    "    print('Full AUC score %.6f' % roc_auc_score(y_train, train_pred))\n",
    "    \n",
    "    #最终加权平均的预测结果\n",
    "    y_pred = sum(answers)/NFOLD\n",
    "    \n",
    "return y_pred, train_pred, clfs, answers"
   ]
  },
  {
   "cell_type": "code",
   "execution_count": null,
   "id": "c6102f0d",
   "metadata": {},
   "outputs": [],
   "source": [
    "y_pred, train_pred, _, _ = cv_train_model(X_train, X_test, y_train, kf)"
   ]
  },
  {
   "cell_type": "code",
   "execution_count": null,
   "id": "09079d11",
   "metadata": {},
   "outputs": [],
   "source": []
  }
 ],
 "metadata": {
  "kernelspec": {
   "display_name": "Python 3 (ipykernel)",
   "language": "python",
   "name": "python3"
  },
  "language_info": {
   "codemirror_mode": {
    "name": "ipython",
    "version": 3
   },
   "file_extension": ".py",
   "mimetype": "text/x-python",
   "name": "python",
   "nbconvert_exporter": "python",
   "pygments_lexer": "ipython3",
   "version": "3.7.11"
  }
 },
 "nbformat": 4,
 "nbformat_minor": 5
}
